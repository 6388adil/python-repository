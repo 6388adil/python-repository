{
 "cells": [
  {
   "cell_type": "code",
   "execution_count": 1,
   "id": "85bff274-2162-4131-9ae3-0903d1d4c53c",
   "metadata": {},
   "outputs": [],
   "source": [
    "d = {}"
   ]
  },
  {
   "cell_type": "code",
   "execution_count": 2,
   "id": "05ea9f31-24ec-4d4f-89e5-5699552f3054",
   "metadata": {},
   "outputs": [
    {
     "data": {
      "text/plain": [
       "dict"
      ]
     },
     "execution_count": 2,
     "metadata": {},
     "output_type": "execute_result"
    }
   ],
   "source": [
    "type(d)"
   ]
  },
  {
   "cell_type": "code",
   "execution_count": 3,
   "id": "a82d661e-641b-4b7f-bba8-4b6711ed1ffc",
   "metadata": {},
   "outputs": [],
   "source": [
    "d1 = {'key' :\"adil\"}"
   ]
  },
  {
   "cell_type": "code",
   "execution_count": 4,
   "id": "41c392e0-0205-43e9-986b-540c7050fc71",
   "metadata": {},
   "outputs": [
    {
     "data": {
      "text/plain": [
       "{'key': 'adil'}"
      ]
     },
     "execution_count": 4,
     "metadata": {},
     "output_type": "execute_result"
    }
   ],
   "source": [
    "d1"
   ]
  },
  {
   "cell_type": "code",
   "execution_count": 5,
   "id": "755f5759-006e-4b84-b5d4-d7fdc876a435",
   "metadata": {},
   "outputs": [
    {
     "data": {
      "text/plain": [
       "dict"
      ]
     },
     "execution_count": 5,
     "metadata": {},
     "output_type": "execute_result"
    }
   ],
   "source": [
    "type(d1)"
   ]
  },
  {
   "cell_type": "code",
   "execution_count": 6,
   "id": "1e8bc654-a526-4fff-823a-806818c8fee3",
   "metadata": {},
   "outputs": [],
   "source": [
    "d2 = {'name' : \"adil\" , \"email\" : \"ss@gmail.com\" , \"number\" : 33456}"
   ]
  },
  {
   "cell_type": "code",
   "execution_count": 7,
   "id": "afc61182-3bef-40d6-bb32-589b0d76ae19",
   "metadata": {},
   "outputs": [
    {
     "data": {
      "text/plain": [
       "{'name': 'adil', 'email': 'ss@gmail.com', 'number': 33456}"
      ]
     },
     "execution_count": 7,
     "metadata": {},
     "output_type": "execute_result"
    }
   ],
   "source": [
    "d2"
   ]
  },
  {
   "cell_type": "code",
   "execution_count": 13,
   "id": "5b8ece69-c5fe-43fd-95f9-ce89fcc31f0b",
   "metadata": {},
   "outputs": [],
   "source": [
    "d3 ={234 :\"adil\" , '_wer' : \"kumar\" , True :2354}"
   ]
  },
  {
   "cell_type": "code",
   "execution_count": 14,
   "id": "c8700c8c-86d3-4e63-8bcd-b120bae1b5fe",
   "metadata": {},
   "outputs": [
    {
     "data": {
      "text/plain": [
       "{234: 'adil', '_wer': 'kumar', True: 2354}"
      ]
     },
     "execution_count": 14,
     "metadata": {},
     "output_type": "execute_result"
    }
   ],
   "source": [
    "d3"
   ]
  },
  {
   "cell_type": "code",
   "execution_count": 15,
   "id": "332a78ac-2037-4196-b8b4-aba225b42b72",
   "metadata": {},
   "outputs": [
    {
     "ename": "KeyError",
     "evalue": "0",
     "output_type": "error",
     "traceback": [
      "\u001b[0;31m---------------------------------------------------------------------------\u001b[0m",
      "\u001b[0;31mKeyError\u001b[0m                                  Traceback (most recent call last)",
      "Cell \u001b[0;32mIn [15], line 1\u001b[0m\n\u001b[0;32m----> 1\u001b[0m \u001b[43md3\u001b[49m\u001b[43m[\u001b[49m\u001b[38;5;241;43m0\u001b[39;49m\u001b[43m]\u001b[49m\n",
      "\u001b[0;31mKeyError\u001b[0m: 0"
     ]
    }
   ],
   "source": [
    "d3[0]"
   ]
  },
  {
   "cell_type": "code",
   "execution_count": 17,
   "id": "00822e93-f000-4288-bdf3-ff1d3c0657a3",
   "metadata": {},
   "outputs": [
    {
     "data": {
      "text/plain": [
       "'adil'"
      ]
     },
     "execution_count": 17,
     "metadata": {},
     "output_type": "execute_result"
    }
   ],
   "source": [
    "d3[234]"
   ]
  },
  {
   "cell_type": "code",
   "execution_count": 21,
   "id": "cdff220e-8fa3-4f2c-9366-dda54443461e",
   "metadata": {},
   "outputs": [
    {
     "data": {
      "text/plain": [
       "2354"
      ]
     },
     "execution_count": 21,
     "metadata": {},
     "output_type": "execute_result"
    }
   ],
   "source": [
    "d3[True]"
   ]
  },
  {
   "cell_type": "code",
   "execution_count": 22,
   "id": "2916ac87-2236-4e95-b609-95448f3f84ac",
   "metadata": {},
   "outputs": [
    {
     "data": {
      "text/plain": [
       "2354"
      ]
     },
     "execution_count": 22,
     "metadata": {},
     "output_type": "execute_result"
    }
   ],
   "source": [
    "d3[1]"
   ]
  },
  {
   "cell_type": "code",
   "execution_count": 23,
   "id": "b080a52b-50c7-4f7f-b756-9a6bd289ae41",
   "metadata": {},
   "outputs": [],
   "source": [
    "d4 = {'name':\"adil\" , 'mail_id' : \"adil@gmail.com\" , \"name\" : \"MohdAdil\"}"
   ]
  },
  {
   "cell_type": "code",
   "execution_count": 24,
   "id": "73488260-46e4-4a0c-ac35-cbe63fa256f6",
   "metadata": {},
   "outputs": [
    {
     "data": {
      "text/plain": [
       "'MohdAdil'"
      ]
     },
     "execution_count": 24,
     "metadata": {},
     "output_type": "execute_result"
    }
   ],
   "source": [
    "d4['name']"
   ]
  },
  {
   "cell_type": "code",
   "execution_count": 26,
   "id": "a1fdaab5-0a94-464a-865b-e3a2f3805991",
   "metadata": {},
   "outputs": [],
   "source": [
    "d5 ={\"company\" : \"pwskills\" , \"course\" :[\"web dev\" , \"data science\" , \" java with dsa system design\"]}"
   ]
  },
  {
   "cell_type": "code",
   "execution_count": 27,
   "id": "2e96d7b0-9240-4a3a-a26e-92c0500a2ee4",
   "metadata": {},
   "outputs": [
    {
     "data": {
      "text/plain": [
       "{'company': 'pwskills',\n",
       " 'course': ['web dev', 'data science', ' java with dsa system design']}"
      ]
     },
     "execution_count": 27,
     "metadata": {},
     "output_type": "execute_result"
    }
   ],
   "source": [
    "d5"
   ]
  },
  {
   "cell_type": "code",
   "execution_count": 29,
   "id": "e9a384b3-7ca3-4b97-832f-834ff5d81557",
   "metadata": {},
   "outputs": [
    {
     "data": {
      "text/plain": [
       "['web dev', 'data science', ' java with dsa system design']"
      ]
     },
     "execution_count": 29,
     "metadata": {},
     "output_type": "execute_result"
    }
   ],
   "source": [
    "d5['course']"
   ]
  },
  {
   "cell_type": "code",
   "execution_count": 30,
   "id": "279674e2-003d-4bd1-a28a-445872d8a73d",
   "metadata": {},
   "outputs": [
    {
     "data": {
      "text/plain": [
       "' java with dsa system design'"
      ]
     },
     "execution_count": 30,
     "metadata": {},
     "output_type": "execute_result"
    }
   ],
   "source": [
    "d5['course'][2]"
   ]
  },
  {
   "cell_type": "code",
   "execution_count": 2,
   "id": "4e6d0a56-0bac-42bb-9b52-bf8a8a35aad1",
   "metadata": {},
   "outputs": [],
   "source": [
    "d5 ={\"company\" : \"pwskills\" , \"course\" :[\"web dev\" , \"data science\" , \"java with dsa system design\"]}"
   ]
  },
  {
   "cell_type": "code",
   "execution_count": 3,
   "id": "65dd0fa1-d868-4e30-9f14-cdd66b3f8693",
   "metadata": {},
   "outputs": [
    {
     "data": {
      "text/plain": [
       "{'company': 'pwskills',\n",
       " 'course': ['web dev', 'data science', 'java with dsa system design']}"
      ]
     },
     "execution_count": 3,
     "metadata": {},
     "output_type": "execute_result"
    }
   ],
   "source": [
    "d5"
   ]
  },
  {
   "cell_type": "code",
   "execution_count": 4,
   "id": "4dfc6bef-8b8b-4b73-9f90-cbcc5b7c4875",
   "metadata": {},
   "outputs": [
    {
     "data": {
      "text/plain": [
       "['web dev', 'data science', 'java with dsa system design']"
      ]
     },
     "execution_count": 4,
     "metadata": {},
     "output_type": "execute_result"
    }
   ],
   "source": [
    "d5['course']"
   ]
  },
  {
   "cell_type": "code",
   "execution_count": 5,
   "id": "a48f879a-d564-491b-8138-282915b0cc06",
   "metadata": {},
   "outputs": [
    {
     "data": {
      "text/plain": [
       "'java with dsa system design'"
      ]
     },
     "execution_count": 5,
     "metadata": {},
     "output_type": "execute_result"
    }
   ],
   "source": [
    "d5['course'][2]"
   ]
  },
  {
   "cell_type": "code",
   "execution_count": 13,
   "id": "fc89f3d8-3e3d-49f9-9dc2-586ae19cdc12",
   "metadata": {},
   "outputs": [],
   "source": [
    "d6 = {\"number\" : [2,3,4,56,7,8] , \"assignment\":(1,2,3,4,5,6,7) , \"launch_date\" : {'28,12,14'} , \"class_time\" : {\"web_dev\": 8 , \"data science master\": 8 , \"java with dsa and system design\" : 7}}"
   ]
  },
  {
   "cell_type": "code",
   "execution_count": 14,
   "id": "1cfe1c92-82b0-4ccf-82f8-e7c0005f129b",
   "metadata": {},
   "outputs": [
    {
     "data": {
      "text/plain": [
       "{'number': [2, 3, 4, 56, 7, 8],\n",
       " 'assignment': (1, 2, 3, 4, 5, 6, 7),\n",
       " 'launch_date': {'28,12,14'},\n",
       " 'class_time': {'web_dev': 8,\n",
       "  'data science master': 8,\n",
       "  'java with dsa and system design': 7}}"
      ]
     },
     "execution_count": 14,
     "metadata": {},
     "output_type": "execute_result"
    }
   ],
   "source": [
    "d6"
   ]
  },
  {
   "cell_type": "code",
   "execution_count": 15,
   "id": "bd961b2f-d859-4beb-98f8-cca1d411081e",
   "metadata": {},
   "outputs": [
    {
     "data": {
      "text/plain": [
       "{'number': [2, 3, 4, 56, 7, 8],\n",
       " 'assignment': (1, 2, 3, 4, 5, 6, 7),\n",
       " 'launch_date': {'28,12,14'},\n",
       " 'class_time': {'web_dev': 8,\n",
       "  'data science master': 8,\n",
       "  'java with dsa and system design': 7}}"
      ]
     },
     "execution_count": 15,
     "metadata": {},
     "output_type": "execute_result"
    }
   ],
   "source": [
    "d6"
   ]
  },
  {
   "cell_type": "code",
   "execution_count": 16,
   "id": "6ddb0733-3835-4630-948c-fd44c9beff6b",
   "metadata": {},
   "outputs": [
    {
     "data": {
      "text/plain": [
       "7"
      ]
     },
     "execution_count": 16,
     "metadata": {},
     "output_type": "execute_result"
    }
   ],
   "source": [
    "d6['class_time']['java with dsa and system design']"
   ]
  },
  {
   "cell_type": "code",
   "execution_count": 17,
   "id": "3084e0a8-5a9e-4295-8160-c0682109397b",
   "metadata": {},
   "outputs": [
    {
     "data": {
      "text/plain": [
       "{'number': [2, 3, 4, 56, 7, 8],\n",
       " 'assignment': (1, 2, 3, 4, 5, 6, 7),\n",
       " 'launch_date': {'28,12,14'},\n",
       " 'class_time': {'web_dev': 8,\n",
       "  'data science master': 8,\n",
       "  'java with dsa and system design': 7}}"
      ]
     },
     "execution_count": 17,
     "metadata": {},
     "output_type": "execute_result"
    }
   ],
   "source": [
    "d6"
   ]
  },
  {
   "cell_type": "code",
   "execution_count": 18,
   "id": "7499d298-109d-4416-8cae-910d8dd7fc3a",
   "metadata": {},
   "outputs": [],
   "source": [
    "d6['mentor'] = [ \"sudhanshu\" ,\"krish\" , \"anurag\" , \"hayder\"]"
   ]
  },
  {
   "cell_type": "code",
   "execution_count": 19,
   "id": "c3f9c0bd-17e7-4d0b-9709-f452b2bc955a",
   "metadata": {},
   "outputs": [
    {
     "data": {
      "text/plain": [
       "{'number': [2, 3, 4, 56, 7, 8],\n",
       " 'assignment': (1, 2, 3, 4, 5, 6, 7),\n",
       " 'launch_date': {'28,12,14'},\n",
       " 'class_time': {'web_dev': 8,\n",
       "  'data science master': 8,\n",
       "  'java with dsa and system design': 7},\n",
       " 'mentor': ['sudhanshu', 'krish', 'anurag', 'hayder']}"
      ]
     },
     "execution_count": 19,
     "metadata": {},
     "output_type": "execute_result"
    }
   ],
   "source": [
    "d6"
   ]
  },
  {
   "cell_type": "code",
   "execution_count": 20,
   "id": "7e66b623-f872-4da7-9359-a55b730800a4",
   "metadata": {},
   "outputs": [],
   "source": [
    "del d6['number']"
   ]
  },
  {
   "cell_type": "code",
   "execution_count": 21,
   "id": "ca25e03f-23ae-4549-8a54-7817f9f08eee",
   "metadata": {},
   "outputs": [
    {
     "data": {
      "text/plain": [
       "{'assignment': (1, 2, 3, 4, 5, 6, 7),\n",
       " 'launch_date': {'28,12,14'},\n",
       " 'class_time': {'web_dev': 8,\n",
       "  'data science master': 8,\n",
       "  'java with dsa and system design': 7},\n",
       " 'mentor': ['sudhanshu', 'krish', 'anurag', 'hayder']}"
      ]
     },
     "execution_count": 21,
     "metadata": {},
     "output_type": "execute_result"
    }
   ],
   "source": [
    "d6"
   ]
  },
  {
   "cell_type": "code",
   "execution_count": 24,
   "id": "8d542369-6c32-4580-bbb8-cc3d9486abf3",
   "metadata": {},
   "outputs": [
    {
     "data": {
      "text/plain": [
       "['assignment', 'launch_date', 'class_time', 'mentor']"
      ]
     },
     "execution_count": 24,
     "metadata": {},
     "output_type": "execute_result"
    }
   ],
   "source": [
    "list(d6.keys())"
   ]
  },
  {
   "cell_type": "code",
   "execution_count": 27,
   "id": "7a0dd4a3-b80d-4348-a042-2549260afb39",
   "metadata": {},
   "outputs": [
    {
     "data": {
      "text/plain": [
       "[(1, 2, 3, 4, 5, 6, 7),\n",
       " {'28,12,14'},\n",
       " {'web_dev': 8,\n",
       "  'data science master': 8,\n",
       "  'java with dsa and system design': 7},\n",
       " ['sudhanshu', 'krish', 'anurag', 'hayder']]"
      ]
     },
     "execution_count": 27,
     "metadata": {},
     "output_type": "execute_result"
    }
   ],
   "source": [
    "list(d6.values())"
   ]
  },
  {
   "cell_type": "code",
   "execution_count": 30,
   "id": "70143a33-1c72-4882-becc-5240bb5a929e",
   "metadata": {},
   "outputs": [
    {
     "data": {
      "text/plain": [
       "[('assignment', (1, 2, 3, 4, 5, 6, 7)),\n",
       " ('launch_date', {'28,12,14'}),\n",
       " ('class_time',\n",
       "  {'web_dev': 8,\n",
       "   'data science master': 8,\n",
       "   'java with dsa and system design': 7}),\n",
       " ('mentor', ['sudhanshu', 'krish', 'anurag', 'hayder'])]"
      ]
     },
     "execution_count": 30,
     "metadata": {},
     "output_type": "execute_result"
    }
   ],
   "source": [
    "list(d6.items())"
   ]
  },
  {
   "cell_type": "code",
   "execution_count": 31,
   "id": "a6acc3ab-898a-4e25-8a7d-79c9d78b364b",
   "metadata": {},
   "outputs": [
    {
     "data": {
      "text/plain": [
       "(1, 2, 3, 4, 5, 6, 7)"
      ]
     },
     "execution_count": 31,
     "metadata": {},
     "output_type": "execute_result"
    }
   ],
   "source": [
    "d6.pop('assignment')"
   ]
  },
  {
   "cell_type": "code",
   "execution_count": 32,
   "id": "75a41256-33cf-4a88-b5de-208516d0e6e4",
   "metadata": {},
   "outputs": [
    {
     "data": {
      "text/plain": [
       "{'launch_date': {'28,12,14'},\n",
       " 'class_time': {'web_dev': 8,\n",
       "  'data science master': 8,\n",
       "  'java with dsa and system design': 7},\n",
       " 'mentor': ['sudhanshu', 'krish', 'anurag', 'hayder']}"
      ]
     },
     "execution_count": 32,
     "metadata": {},
     "output_type": "execute_result"
    }
   ],
   "source": [
    "d6"
   ]
  },
  {
   "cell_type": "code",
   "execution_count": 33,
   "id": "96916eb7-8825-4b27-96c9-9aeee817a12b",
   "metadata": {},
   "outputs": [
    {
     "ename": "TypeError",
     "evalue": "pop expected at least 1 argument, got 0",
     "output_type": "error",
     "traceback": [
      "\u001b[0;31m---------------------------------------------------------------------------\u001b[0m",
      "\u001b[0;31mTypeError\u001b[0m                                 Traceback (most recent call last)",
      "Cell \u001b[0;32mIn [33], line 1\u001b[0m\n\u001b[0;32m----> 1\u001b[0m \u001b[43md6\u001b[49m\u001b[38;5;241;43m.\u001b[39;49m\u001b[43mpop\u001b[49m\u001b[43m(\u001b[49m\u001b[43m)\u001b[49m\n",
      "\u001b[0;31mTypeError\u001b[0m: pop expected at least 1 argument, got 0"
     ]
    }
   ],
   "source": [
    "d6.pop()"
   ]
  },
  {
   "cell_type": "code",
   "execution_count": 2,
   "id": "4514bd8d-22e1-46f6-bd9b-1d9ce1a2297a",
   "metadata": {},
   "outputs": [
    {
     "name": "stdout",
     "output_type": "stream",
     "text": [
      "you will be a part of A1 batch\n"
     ]
    }
   ],
   "source": [
    "marks = 65\n",
    "if marks >=80 :\n",
    "    print(\"you will be a part of A0 batch\")\n",
    "elif marks >= 60 and marks <80 :  \n",
    "    print(\"you will be a part of A1 batch\")\n",
    "elif marks >= 40 and marks <60 :   \n",
    "    print(\"you will be a part of A2 batch\")\n",
    "else :\n",
    "    print(\"you will be a part of A3 batch\")"
   ]
  },
  {
   "cell_type": "raw",
   "id": "173533b9-bbb9-4c4d-bdb5-6ea83ddea99f",
   "metadata": {},
   "source": [
    "marks = (input(\"enter your marks\"))\n",
    "if marks >=80 :\n",
    "    print(\"you will be a part of A0 batch\")\n",
    "elif marks >= 60 and marks <80 :  \n",
    "    print(\"you will be a part of A1 batch\")\n",
    "elif marks >= 40 and marks <60 :   \n",
    "    print(\"you will be a part of A2 batch\")\n",
    "else :\n",
    "    print(\"you will be a part of A3 batch\")   "
   ]
  },
  {
   "cell_type": "code",
   "execution_count": 5,
   "id": "9ed0592b-bbf2-4487-a3c8-c074dbd32b3c",
   "metadata": {},
   "outputs": [
    {
     "data": {
      "text/plain": [
       "False"
      ]
     },
     "execution_count": 5,
     "metadata": {},
     "output_type": "execute_result"
    }
   ],
   "source": [
    "10 >=80"
   ]
  },
  {
   "cell_type": "code",
   "execution_count": 11,
   "id": "a78127d2-c61f-4bc9-bdc9-5dfaa197685d",
   "metadata": {},
   "outputs": [
    {
     "name": "stdin",
     "output_type": "stream",
     "text": [
      "enter your marks 45\n"
     ]
    }
   ],
   "source": [
    "marks = int(input(\"enter your marks\"))"
   ]
  },
  {
   "cell_type": "code",
   "execution_count": 9,
   "id": "dd848e73-c42b-4874-a4aa-6d479a92d9f7",
   "metadata": {},
   "outputs": [
    {
     "data": {
      "text/plain": [
       "'45'"
      ]
     },
     "execution_count": 9,
     "metadata": {},
     "output_type": "execute_result"
    }
   ],
   "source": [
    "marks"
   ]
  },
  {
   "cell_type": "code",
   "execution_count": 12,
   "id": "c058e194-4e42-446c-a9c0-cb6b72ea87c6",
   "metadata": {},
   "outputs": [
    {
     "data": {
      "text/plain": [
       "str"
      ]
     },
     "execution_count": 12,
     "metadata": {},
     "output_type": "execute_result"
    }
   ],
   "source": [
    "type('marks')"
   ]
  },
  {
   "cell_type": "code",
   "execution_count": 15,
   "id": "d07c87f9-1471-4765-b6e4-d754d2a60ca6",
   "metadata": {},
   "outputs": [
    {
     "name": "stdin",
     "output_type": "stream",
     "text": [
      "enter price 500\n"
     ]
    },
    {
     "name": "stdout",
     "output_type": "stream",
     "text": [
      "i will purchase\n"
     ]
    }
   ],
   "source": [
    "price = int(input(\"enter price\"))\n",
    "if price > 1000:\n",
    "    print(\"i will not purchase\")\n",
    "else :\n",
    "    print(\"i will purchase\")"
   ]
  },
  {
   "cell_type": "code",
   "execution_count": 22,
   "id": "8f82ec01-8d3c-4295-8f04-f9a138796385",
   "metadata": {},
   "outputs": [
    {
     "name": "stdin",
     "output_type": "stream",
     "text": [
      "enter price 1500\n"
     ]
    },
    {
     "name": "stdout",
     "output_type": "stream",
     "text": [
      "i will not purchase\n",
      "its ok\n"
     ]
    }
   ],
   "source": [
    "price = int(input(\"enter price\"))\n",
    "if price > 1000:\n",
    "    print(\"i will not purchase\")\n",
    "    if price > 5000:\n",
    "        print(\"this is too much \")\n",
    "    elif price < 2000 :\n",
    "        print(\"its ok\")\n",
    "elif price < 1000 :\n",
    "    print(\"i will purchase \")\n",
    "else :\n",
    "    print(\"not interested\")"
   ]
  },
  {
   "cell_type": "code",
   "execution_count": 23,
   "id": "25b959c6-cd5e-49d1-a629-b878f71370cc",
   "metadata": {},
   "outputs": [],
   "source": [
    "l = [1,2,3,4,5,6,7,8,]"
   ]
  },
  {
   "cell_type": "code",
   "execution_count": 26,
   "id": "50915a68-e0b1-4fb4-82fb-465648f69fe9",
   "metadata": {},
   "outputs": [
    {
     "data": {
      "text/plain": [
       "2"
      ]
     },
     "execution_count": 26,
     "metadata": {},
     "output_type": "execute_result"
    }
   ],
   "source": [
    "l[0] + 1"
   ]
  },
  {
   "cell_type": "code",
   "execution_count": 27,
   "id": "b2b23f8b-b2aa-4960-b9da-9c7750a5b944",
   "metadata": {},
   "outputs": [],
   "source": [
    "l1 = []"
   ]
  },
  {
   "cell_type": "code",
   "execution_count": 28,
   "id": "5f489858-ca48-49af-a590-aac420a91874",
   "metadata": {},
   "outputs": [],
   "source": [
    "l1.append(l[0] + 1)"
   ]
  },
  {
   "cell_type": "code",
   "execution_count": 29,
   "id": "3255e5df-e304-4709-b796-808acdc41cdc",
   "metadata": {},
   "outputs": [
    {
     "data": {
      "text/plain": [
       "[2]"
      ]
     },
     "execution_count": 29,
     "metadata": {},
     "output_type": "execute_result"
    }
   ],
   "source": [
    "l1"
   ]
  },
  {
   "cell_type": "code",
   "execution_count": 30,
   "id": "c92d4d7a-d7a1-425c-b45d-bdbb8d1a1cc9",
   "metadata": {},
   "outputs": [
    {
     "data": {
      "text/plain": [
       "[1, 2, 3, 4, 5, 6, 7, 8]"
      ]
     },
     "execution_count": 30,
     "metadata": {},
     "output_type": "execute_result"
    }
   ],
   "source": [
    "l"
   ]
  },
  {
   "cell_type": "code",
   "execution_count": 35,
   "id": "ca1371bb-38c7-4ecf-813f-8f9190468c87",
   "metadata": {},
   "outputs": [
    {
     "name": "stdout",
     "output_type": "stream",
     "text": [
      "2\n",
      "3\n",
      "4\n",
      "5\n",
      "6\n",
      "7\n",
      "8\n",
      "9\n"
     ]
    },
    {
     "data": {
      "text/plain": [
       "[2, 3, 4, 5, 6, 7, 8, 9]"
      ]
     },
     "execution_count": 35,
     "metadata": {},
     "output_type": "execute_result"
    }
   ],
   "source": [
    "l1 =[]\n",
    "for i in l :\n",
    "    print(i+1)\n",
    "    l1.append(i+1)\n",
    "l1"
   ]
  },
  {
   "cell_type": "code",
   "execution_count": 37,
   "id": "8099ac04-daef-4953-8542-b7fbedd32e83",
   "metadata": {},
   "outputs": [
    {
     "data": {
      "text/plain": [
       "[2, 3, 4, 5, 6, 7, 8, 9]"
      ]
     },
     "execution_count": 37,
     "metadata": {},
     "output_type": "execute_result"
    }
   ],
   "source": [
    "l1"
   ]
  },
  {
   "cell_type": "code",
   "execution_count": 38,
   "id": "49f40427-2b04-4d63-8dd8-963686a8159f",
   "metadata": {},
   "outputs": [],
   "source": [
    "l2 =[\"sudh\" , \"kumar\" , \"pwskills\" , \"course\"]"
   ]
  },
  {
   "cell_type": "code",
   "execution_count": 41,
   "id": "d3a77439-2035-4493-b938-c97a1c8465e3",
   "metadata": {},
   "outputs": [
    {
     "name": "stdout",
     "output_type": "stream",
     "text": [
      "sudh\n",
      "kumar\n",
      "pwskills\n",
      "course\n"
     ]
    }
   ],
   "source": [
    "l3 = []\n",
    "for i in l2 :\n",
    "    print(i)\n",
    "    l3.append(i.upper())"
   ]
  },
  {
   "cell_type": "code",
   "execution_count": 42,
   "id": "26913cdb-ae60-4874-917c-262de5ea9a2b",
   "metadata": {},
   "outputs": [
    {
     "data": {
      "text/plain": [
       "['SUDH', 'KUMAR', 'PWSKILLS', 'COURSE']"
      ]
     },
     "execution_count": 42,
     "metadata": {},
     "output_type": "execute_result"
    }
   ],
   "source": [
    "l3"
   ]
  },
  {
   "cell_type": "code",
   "execution_count": 43,
   "id": "a47e0eaa-2fba-4874-956e-44f0db188159",
   "metadata": {},
   "outputs": [],
   "source": [
    "l = [1,2,3,45,6,8,7, \" sudh\" , \"kumar\" , 324, 34.456, \"abc\"]"
   ]
  },
  {
   "cell_type": "code",
   "execution_count": 44,
   "id": "4c36a8b3-2240-42db-afab-a7df04dd9c9f",
   "metadata": {},
   "outputs": [],
   "source": [
    "l1_num = []\n",
    "l2_str = []\n",
    "for i in l :\n",
    "    if type(i) == int or type(i) == float :\n",
    "        l1_num.append(i)\n",
    "    else :\n",
    "        l2_str.append(i)"
   ]
  },
  {
   "cell_type": "code",
   "execution_count": 45,
   "id": "90991a0d-307b-44c1-8484-a8fd96b99c5d",
   "metadata": {},
   "outputs": [
    {
     "data": {
      "text/plain": [
       "[1, 2, 3, 45, 6, 8, 7, 324, 34.456]"
      ]
     },
     "execution_count": 45,
     "metadata": {},
     "output_type": "execute_result"
    }
   ],
   "source": [
    "l1_num"
   ]
  },
  {
   "cell_type": "code",
   "execution_count": 46,
   "id": "3e27d7b4-2ef3-4a25-9e71-77f6dca02993",
   "metadata": {},
   "outputs": [
    {
     "data": {
      "text/plain": [
       "[' sudh', 'kumar', 'abc']"
      ]
     },
     "execution_count": 46,
     "metadata": {},
     "output_type": "execute_result"
    }
   ],
   "source": [
    "l2_str"
   ]
  },
  {
   "cell_type": "code",
   "execution_count": null,
   "id": "8ada9a26-8ee8-453c-b38e-576d1965499a",
   "metadata": {},
   "outputs": [],
   "source": []
  }
 ],
 "metadata": {
  "kernelspec": {
   "display_name": "Python 3 (ipykernel)",
   "language": "python",
   "name": "python3"
  },
  "language_info": {
   "codemirror_mode": {
    "name": "ipython",
    "version": 3
   },
   "file_extension": ".py",
   "mimetype": "text/x-python",
   "name": "python",
   "nbconvert_exporter": "python",
   "pygments_lexer": "ipython3",
   "version": "3.10.6"
  }
 },
 "nbformat": 4,
 "nbformat_minor": 5
}
